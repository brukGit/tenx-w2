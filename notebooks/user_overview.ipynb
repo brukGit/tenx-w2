{
 "cells": [
  {
   "cell_type": "markdown",
   "metadata": {},
   "source": [
    "# User Overview Analysis"
   ]
  },
  {
   "cell_type": "markdown",
   "metadata": {},
   "source": [
    "### Import Libraries and Modules"
   ]
  },
  {
   "cell_type": "code",
   "execution_count": null,
   "metadata": {},
   "outputs": [],
   "source": [
    "import os\n",
    "import sys\n",
    "import pandas as pd\n",
    "import matplotlib.pyplot as plt\n",
    "import seaborn as sns\n",
    "\n",
    "# Define the path to the src directory\n",
    "src_dir = os.path.abspath(os.path.join(os.getcwd(), '..', 'src'))\n",
    "sys.path.insert(0, src_dir)\n",
    "\n",
    "if 'data_loader' in sys.modules:\n",
    "    del sys.modules['data_loader']\n",
    "if 'user_overview' in sys.modules:\n",
    "    del sys.modules['user_overview']\n",
    "\n",
    "from data_loader import DataLoader\n",
    "from user_overview import UserOverview\n",
    "\n"
   ]
  },
  {
   "cell_type": "markdown",
   "metadata": {},
   "source": [
    "### Load Data from PostgreSQL and create a UserOverview Object"
   ]
  },
  {
   "cell_type": "code",
   "execution_count": null,
   "metadata": {},
   "outputs": [],
   "source": [
    "loader = DataLoader()\n",
    "df = loader.load_data(\"SELECT * FROM public.xdr_data\")\n",
    "\n",
    "cleaned_df = loader.clean_data(df)\n",
    "\n",
    "df = cleaned_df\n",
    "\n",
    "user_overview = UserOverview(df)"
   ]
  },
  {
   "cell_type": "markdown",
   "metadata": {},
   "source": [
    "### Summary Statistics"
   ]
  },
  {
   "cell_type": "code",
   "execution_count": null,
   "metadata": {},
   "outputs": [],
   "source": [
    "statistics = user_overview.describe_dataset()\n",
    "statistics"
   ]
  },
  {
   "cell_type": "markdown",
   "metadata": {},
   "source": [
    "### Top Handsets and Manufacturers\n"
   ]
  },
  {
   "cell_type": "code",
   "execution_count": null,
   "metadata": {},
   "outputs": [],
   "source": [
    "user_overview.plot_top_handset_types()"
   ]
  },
  {
   "cell_type": "code",
   "execution_count": null,
   "metadata": {},
   "outputs": [],
   "source": [
    "user_overview.plot_top_handset_manufacturers()"
   ]
  },
  {
   "cell_type": "code",
   "execution_count": null,
   "metadata": {},
   "outputs": [],
   "source": [
    "user_overview.plot_top_handsets_per_manufacturer()"
   ]
  },
  {
   "cell_type": "markdown",
   "metadata": {},
   "source": [
    "### Aggregates xDR"
   ]
  },
  {
   "cell_type": "code",
   "execution_count": null,
   "metadata": {},
   "outputs": [],
   "source": [
    "columns_to_aggregate = ['Bearer Id', 'Dur.(s)', 'Total UL (Bytes)', 'Total DL (Bytes)']\n",
    "\n",
    "sessions = df.groupby('MSISDN/Number')[columns_to_aggregate].agg({\n",
    "    'Bearer Id': 'count',\n",
    "    'Dur.(s)': ['min', 'max', 'mean', 'sum'],\n",
    "    'Total UL (Bytes)': ['min', 'max', 'mean', 'sum'],\n",
    "    'Total DL (Bytes)': ['min', 'max', 'mean', 'sum']\n",
    "}).reset_index()\n",
    "\n",
    "\n",
    "sessions\n"
   ]
  },
  {
   "cell_type": "code",
   "execution_count": null,
   "metadata": {},
   "outputs": [],
   "source": [
    "mean_values = {\n",
    "    'Mean Dur.(s)': round(float(sessions[('Dur.(s)', 'mean')].mean()), 2),\n",
    "    'Mean Total UL (Bytes)': round(float(sessions[('Total UL (Bytes)', 'mean')].mean()), 2),\n",
    "    'Mean Total DL (Bytes)': round(float(sessions[('Total DL (Bytes)', 'mean')].mean()), 2),\n",
    "    'Mean Bearer Id Count': round(float(sessions[('Bearer Id', 'count')].mean()), 2)\n",
    "}\n",
    "\n",
    "print(mean_values)\n",
    "\n"
   ]
  },
  {
   "cell_type": "code",
   "execution_count": null,
   "metadata": {},
   "outputs": [],
   "source": [
    "# Aggregates per user\n",
    "aggregates_per_users = df.groupby('MSISDN/Number').agg({\n",
    "    # Total or average session duration\n",
    "    'Dur.(s)': 'sum',\n",
    "    \n",
    "    # Summing up the columns listed in columns_to_sum\n",
    "    **{col: 'sum' for col in columns_media}\n",
    "}).reset_index()\n",
    "                 "
   ]
  },
  {
   "cell_type": "code",
   "execution_count": null,
   "metadata": {},
   "outputs": [],
   "source": [
    "# Add a new column for total application data volume (in Bytes) for each session per user\n",
    "aggregates_per_users['Total Data Volume (Bytes)'] = aggregates_per_users[\n",
    "    [col for col in columns_media if 'DL' in col or 'UL' in col]\n",
    "].sum(axis=1)\n",
    "\n",
    "# Display the aggregated DataFrame\n",
    "aggregates_per_users.head()"
   ]
  },
  {
   "cell_type": "markdown",
   "metadata": {},
   "source": [
    "## Decile top 5"
   ]
  },
  {
   "cell_type": "code",
   "execution_count": null,
   "metadata": {},
   "outputs": [],
   "source": [
    "decile_aggregates = user_overview.segment_and_compute_decile()\n",
    "print(decile_aggregates)"
   ]
  },
  {
   "cell_type": "code",
   "execution_count": null,
   "metadata": {},
   "outputs": [],
   "source": [
    "# Plot\n",
    "plt.figure(figsize=(10, 6))\n",
    "bar_width = 0.25\n",
    "opacity = 0.8\n",
    "\n",
    "# Set positions for bars\n",
    "index = range(len(decile_aggregates))\n",
    "\n",
    "plt.bar(index, decile_aggregates['Total DL (Bytes)'], bar_width, alpha=opacity, color='b', label='Total DL (Bytes)')\n",
    "plt.bar([i + bar_width for i in index], decile_aggregates['Total UL (Bytes)'], bar_width, alpha=opacity, color='g', label='Total UL (Bytes)')\n",
    "plt.bar([i + 2 * bar_width for i in index], decile_aggregates['Total Data (Bytes)'], bar_width, alpha=opacity, color='r', label='Total Data (Bytes)')\n",
    "\n",
    "plt.xlabel('Decile')\n",
    "plt.ylabel('Bytes')\n",
    "plt.title('Total Bytes by Decile')\n",
    "plt.xticks([i + bar_width for i in index], decile_aggregates['Decile'])\n",
    "plt.legend()\n",
    "\n",
    "plt.tight_layout()\n",
    "plt.show()"
   ]
  },
  {
   "cell_type": "markdown",
   "metadata": {},
   "source": [
    "### Univariate Non-Graphical"
   ]
  },
  {
   "cell_type": "code",
   "execution_count": null,
   "metadata": {},
   "outputs": [],
   "source": [
    "uvt_analysis = user_overview.univariate_analysis()\n",
    "uvt_analysis"
   ]
  },
  {
   "cell_type": "markdown",
   "metadata": {},
   "source": [
    "### Univariate Analysis Graphical"
   ]
  },
  {
   "cell_type": "code",
   "execution_count": null,
   "metadata": {},
   "outputs": [],
   "source": [
    "user_overview.graphical_univariate_analysis()"
   ]
  },
  {
   "cell_type": "markdown",
   "metadata": {},
   "source": [
    "### Bivariant Analysis"
   ]
  },
  {
   "cell_type": "code",
   "execution_count": null,
   "metadata": {},
   "outputs": [],
   "source": [
    "bvt_analysis = user_overview.bivariate_analysis()\n",
    "bvt_analysis"
   ]
  },
  {
   "cell_type": "markdown",
   "metadata": {},
   "source": [
    "### Correlation Matrix"
   ]
  },
  {
   "cell_type": "code",
   "execution_count": null,
   "metadata": {},
   "outputs": [],
   "source": [
    "corr_matrix = user_overview.plot_correlation_matrix()"
   ]
  },
  {
   "cell_type": "markdown",
   "metadata": {},
   "source": [
    "### PCA Analysis"
   ]
  },
  {
   "cell_type": "code",
   "execution_count": null,
   "metadata": {},
   "outputs": [],
   "source": [
    "pca_analysis = user_overview.pca_analysis()\n",
    "pca_analysis"
   ]
  },
  {
   "cell_type": "code",
   "execution_count": null,
   "metadata": {},
   "outputs": [],
   "source": []
  }
 ],
 "metadata": {
  "kernelspec": {
   "display_name": "venv",
   "language": "python",
   "name": "python3"
  },
  "language_info": {
   "codemirror_mode": {
    "name": "ipython",
    "version": 3
   },
   "file_extension": ".py",
   "mimetype": "text/x-python",
   "name": "python",
   "nbconvert_exporter": "python",
   "pygments_lexer": "ipython3",
   "version": "3.12.4"
  }
 },
 "nbformat": 4,
 "nbformat_minor": 2
}
