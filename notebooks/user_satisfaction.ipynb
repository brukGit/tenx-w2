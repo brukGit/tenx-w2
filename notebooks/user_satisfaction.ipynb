{
 "cells": [
  {
   "cell_type": "markdown",
   "metadata": {},
   "source": [
    "# User Satisfaction Analysis"
   ]
  },
  {
   "cell_type": "markdown",
   "metadata": {},
   "source": [
    "### Import Libraries and Modules"
   ]
  },
  {
   "cell_type": "code",
   "execution_count": 1,
   "metadata": {},
   "outputs": [],
   "source": [
    "import os\n",
    "import sys\n",
    "import pandas as pd\n",
    "import matplotlib.pyplot as plt\n",
    "import seaborn as sns\n",
    "from sqlalchemy import create_engine\n",
    "from dotenv import load_dotenv\n",
    "\n",
    "# Define the path to the src directory\n",
    "src_dir = os.path.abspath(os.path.join(os.getcwd(), '..', 'src'))\n",
    "sys.path.insert(0, src_dir)\n",
    "\n",
    "# Reload modules to ensure the latest versions are used\n",
    "if 'data_loader' in sys.modules:\n",
    "    del sys.modules['data_loader']\n",
    "if 'user_engagement' in sys.modules:\n",
    "    del sys.modules['user_engagement']\n",
    "if 'user_experience' in sys.modules:\n",
    "    del sys.modules['user_experience']\n",
    "if 'user_satisfaction' in sys.modules:\n",
    "    del sys.modules['user_satisfaction']\n",
    "\n",
    "from data_loader import DataLoader\n",
    "from user_engagement import UserEngagement\n",
    "from user_experience import UserExperience\n",
    "from user_satisfaction import UserSatisfaction"
   ]
  },
  {
   "cell_type": "markdown",
   "metadata": {},
   "source": [
    "### Load Data from PostgreSQL and Initialize Models"
   ]
  },
  {
   "cell_type": "code",
   "execution_count": 2,
   "metadata": {},
   "outputs": [],
   "source": [
    "# Load and clean data\n",
    "loader = DataLoader()\n",
    "df = loader.load_data(\"SELECT * FROM public.xdr_data\")\n",
    "cleaned_df = loader.clean_data(df)\n",
    "\n",
    "# Initialize models\n",
    "user_engagement = UserEngagement(cleaned_df)\n",
    "user_experience = UserExperience(cleaned_df)\n",
    "user_satisfaction = UserSatisfaction(cleaned_df, user_engagement, user_experience)\n"
   ]
  },
  {
   "cell_type": "markdown",
   "metadata": {},
   "source": [
    "### Satisfaction scores"
   ]
  },
  {
   "cell_type": "code",
   "execution_count": null,
   "metadata": {},
   "outputs": [],
   "source": [
    "# Calculate satisfaction scores\n",
    "satisfaction_scores = user_satisfaction.calculate_satisfaction_scores()\n",
    "print(\"Satisfaction scores calculated.\")\n",
    "\n",
    "# Get top satisfied customers\n",
    "top_customers = user_satisfaction.get_top_satisfied_customers()\n",
    "print(\"Top 10 satisfied customers:\")\n",
    "display(top_customers)\n",
    "\n",
    "# Plot satisfaction scores\n",
    "user_satisfaction.plot_satisfaction_scores()\n"
   ]
  },
  {
   "cell_type": "markdown",
   "metadata": {},
   "source": [
    "### Regression Model"
   ]
  },
  {
   "cell_type": "code",
   "execution_count": null,
   "metadata": {},
   "outputs": [],
   "source": [
    "# Build regression model\n",
    "model, mse, r2 = user_satisfaction.build_regression_model()\n",
    "print(f\"Regression model built. MSE: {mse}, R-squared: {r2}\")\n"
   ]
  },
  {
   "cell_type": "markdown",
   "metadata": {},
   "source": [
    "### K-Means Clustering"
   ]
  },
  {
   "cell_type": "code",
   "execution_count": null,
   "metadata": {},
   "outputs": [],
   "source": [
    "# Perform k-means clustering and plot results\n",
    "user_satisfaction.plot_kmeans_results()\n",
    "\n",
    "# Aggregate and plot scores by cluster\n",
    "user_satisfaction.plot_aggregated_scores()"
   ]
  },
  {
   "cell_type": "markdown",
   "metadata": {},
   "source": [
    "### Export table to database"
   ]
  },
  {
   "cell_type": "code",
   "execution_count": null,
   "metadata": {},
   "outputs": [],
   "source": [
    "load_dotenv()\n",
    "db_host = os.getenv('DB_HOST')\n",
    "db_name = os.getenv('DB_NAME')\n",
    "db_user = os.getenv('DB_USER')\n",
    "db_password = os.getenv('DB_PASSWORD')\n",
    "db_port = os.getenv('DB_PORT')\n",
    "# Export to PostgreSQL \n",
    "db_params = {\n",
    "     'dbname': db_name,\n",
    "     'user': db_user,\n",
    "     'password': db_password,\n",
    "     'host': db_host,\n",
    "     'port': db_port\n",
    " }\n",
    "engine = create_engine(f\"postgresql://{db_params['user']}:{db_params['password']}@{db_params['host']}:{db_params['port']}/{db_params['dbname']}\")\n",
    "select_query = user_satisfaction.export_to_postgres(engine)\n",
    "select_query"
   ]
  }
 ],
 "metadata": {
  "kernelspec": {
   "display_name": "venv",
   "language": "python",
   "name": "python3"
  },
  "language_info": {
   "codemirror_mode": {
    "name": "ipython",
    "version": 3
   },
   "file_extension": ".py",
   "mimetype": "text/x-python",
   "name": "python",
   "nbconvert_exporter": "python",
   "pygments_lexer": "ipython3",
   "version": "3.12.4"
  }
 },
 "nbformat": 4,
 "nbformat_minor": 2
}
